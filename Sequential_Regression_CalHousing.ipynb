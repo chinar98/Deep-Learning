{
 "cells": [
  {
   "cell_type": "markdown",
   "metadata": {
    "colab_type": "text",
    "id": "iwYfTgv24-BM"
   },
   "source": []
  },
  {
   "cell_type": "code",
   "execution_count": 1,
   "metadata": {
    "colab": {},
    "colab_type": "code",
    "id": "t8UbVIaEqwGC"
   },
   "outputs": [],
   "source": [
    "from sklearn.datasets import fetch_california_housing\n",
    "from sklearn.model_selection import train_test_split\n",
    "from sklearn.preprocessing import StandardScaler\n",
    "import tensorflow as tf\n",
    "from tensorflow import keras"
   ]
  },
  {
   "cell_type": "code",
   "execution_count": 2,
   "metadata": {
    "colab": {
     "base_uri": "https://localhost:8080/",
     "height": 55
    },
    "colab_type": "code",
    "id": "k3q48Lcvq3FB",
    "outputId": "edf362e6-29c8-40a8-8ee8-dc338cd9d5ed"
   },
   "outputs": [
    {
     "name": "stderr",
     "output_type": "stream",
     "text": [
      "Downloading Cal. housing from https://ndownloader.figshare.com/files/5976036 to /root/scikit_learn_data\n"
     ]
    }
   ],
   "source": [
    "housing = fetch_california_housing()\n",
    "X_train_full, X_test, y_train_full, y_test = train_test_split(\n",
    "housing.data, housing.target)\n",
    "X_train, X_valid, y_train, y_valid = train_test_split(\n",
    "X_train_full, y_train_full)\n",
    "scaler = StandardScaler()\n",
    "X_train_scaled = scaler.fit_transform(X_train) #1\n",
    "X_valid_scaled = scaler.transform(X_valid) #2\n",
    "X_test_scaled = scaler.transform(X_test)"
   ]
  },
  {
   "cell_type": "code",
   "execution_count": 4,
   "metadata": {
    "colab": {
     "base_uri": "https://localhost:8080/",
     "height": 156
    },
    "colab_type": "code",
    "id": "cBDvaTR8vkzE",
    "outputId": "f95448eb-4a2d-44db-c655-6e8513cfd135"
   },
   "outputs": [
    {
     "data": {
      "text/plain": [
       "['MedInc',\n",
       " 'HouseAge',\n",
       " 'AveRooms',\n",
       " 'AveBedrms',\n",
       " 'Population',\n",
       " 'AveOccup',\n",
       " 'Latitude',\n",
       " 'Longitude']"
      ]
     },
     "execution_count": 4,
     "metadata": {
      "tags": []
     },
     "output_type": "execute_result"
    }
   ],
   "source": [
    "housing.feature_names"
   ]
  },
  {
   "cell_type": "code",
   "execution_count": null,
   "metadata": {
    "colab": {
     "base_uri": "https://localhost:8080/",
     "height": 238
    },
    "colab_type": "code",
    "id": "oaQ0-cRnryRa",
    "outputId": "e6995eea-0700-4e2c-b080-88d5ed60e6b8"
   },
   "outputs": [
    {
     "data": {
      "text/plain": [
       "array([[-2.50593119e-01,  3.12985558e-02,  1.86814725e-01, ...,\n",
       "         3.20899637e-02, -1.23494172e+00,  2.07245419e+00],\n",
       "       [-3.95962346e-01, -7.63661482e-01,  2.29153368e-04, ...,\n",
       "         4.15886568e-02, -1.26041816e-01,  3.14612463e-01],\n",
       "       [-1.15980266e-01,  1.85970664e+00,  1.01074878e-01, ...,\n",
       "        -2.28198334e-02,  1.09047284e+00, -8.60601835e-01],\n",
       "       ...,\n",
       "       [-1.16651943e+00, -1.24063750e+00, -5.80820538e-01, ...,\n",
       "        -7.27301559e-02,  2.47074909e+00, -2.24496444e+00],\n",
       "       [-4.45209664e-01, -6.04669475e-01, -3.80868924e-02, ...,\n",
       "        -6.50973589e-03,  5.33683442e-01, -1.05979070e+00],\n",
       "       [-8.51631861e-01, -1.08164550e+00, -6.50935742e-01, ...,\n",
       "        -6.98284250e-02,  5.57077955e-01, -7.38058221e-02]])"
      ]
     },
     "execution_count": 17,
     "metadata": {
      "tags": []
     },
     "output_type": "execute_result"
    }
   ],
   "source": [
    "X_test_scaled"
   ]
  },
  {
   "cell_type": "code",
   "execution_count": null,
   "metadata": {
    "colab": {
     "base_uri": "https://localhost:8080/",
     "height": 714
    },
    "colab_type": "code",
    "id": "gudJymzHq38e",
    "outputId": "f2b2c8f1-349e-4992-cd71-0358d629b8d3"
   },
   "outputs": [
    {
     "name": "stdout",
     "output_type": "stream",
     "text": [
      "Epoch 1/20\n",
      "363/363 [==============================] - 1s 1ms/step - loss: 0.7795 - mse: 0.7795 - val_loss: 0.8664 - val_mse: 0.8664\n",
      "Epoch 2/20\n",
      "363/363 [==============================] - 0s 1ms/step - loss: 0.6722 - mse: 0.6722 - val_loss: 0.5219 - val_mse: 0.5219\n",
      "Epoch 3/20\n",
      "363/363 [==============================] - 1s 2ms/step - loss: 0.5196 - mse: 0.5196 - val_loss: 0.4712 - val_mse: 0.4712\n",
      "Epoch 4/20\n",
      "363/363 [==============================] - 0s 1ms/step - loss: 0.4714 - mse: 0.4714 - val_loss: 0.4818 - val_mse: 0.4818\n",
      "Epoch 5/20\n",
      "363/363 [==============================] - 0s 1ms/step - loss: 0.4631 - mse: 0.4631 - val_loss: 0.4596 - val_mse: 0.4596\n",
      "Epoch 6/20\n",
      "363/363 [==============================] - 1s 1ms/step - loss: 0.4478 - mse: 0.4478 - val_loss: 0.4473 - val_mse: 0.4473\n",
      "Epoch 7/20\n",
      "363/363 [==============================] - 1s 1ms/step - loss: 0.4398 - mse: 0.4398 - val_loss: 0.4335 - val_mse: 0.4335\n",
      "Epoch 8/20\n",
      "363/363 [==============================] - 1s 1ms/step - loss: 0.4383 - mse: 0.4383 - val_loss: 0.4272 - val_mse: 0.4272\n",
      "Epoch 9/20\n",
      "363/363 [==============================] - 1s 1ms/step - loss: 0.4310 - mse: 0.4310 - val_loss: 0.4247 - val_mse: 0.4247\n",
      "Epoch 10/20\n",
      "363/363 [==============================] - 1s 2ms/step - loss: 0.4246 - mse: 0.4246 - val_loss: 0.4168 - val_mse: 0.4168\n",
      "Epoch 11/20\n",
      "363/363 [==============================] - 1s 1ms/step - loss: 0.4218 - mse: 0.4218 - val_loss: 0.4118 - val_mse: 0.4118\n",
      "Epoch 12/20\n",
      "363/363 [==============================] - 1s 1ms/step - loss: 0.4241 - mse: 0.4241 - val_loss: 0.4560 - val_mse: 0.4560\n",
      "Epoch 13/20\n",
      "363/363 [==============================] - 1s 1ms/step - loss: 0.4336 - mse: 0.4336 - val_loss: 0.4072 - val_mse: 0.4072\n",
      "Epoch 14/20\n",
      "363/363 [==============================] - 1s 2ms/step - loss: 0.4111 - mse: 0.4111 - val_loss: 0.4130 - val_mse: 0.4130\n",
      "Epoch 15/20\n",
      "363/363 [==============================] - 1s 1ms/step - loss: 0.4078 - mse: 0.4078 - val_loss: 0.3957 - val_mse: 0.3957\n",
      "Epoch 16/20\n",
      "363/363 [==============================] - 0s 1ms/step - loss: 0.4049 - mse: 0.4049 - val_loss: 0.3952 - val_mse: 0.3952\n",
      "Epoch 17/20\n",
      "363/363 [==============================] - 0s 1ms/step - loss: 0.4011 - mse: 0.4011 - val_loss: 0.3901 - val_mse: 0.3901\n",
      "Epoch 18/20\n",
      "363/363 [==============================] - 0s 1ms/step - loss: 0.3986 - mse: 0.3986 - val_loss: 0.3885 - val_mse: 0.3885\n",
      "Epoch 19/20\n",
      "363/363 [==============================] - 0s 1ms/step - loss: 0.3945 - mse: 0.3945 - val_loss: 0.3878 - val_mse: 0.3878\n",
      "Epoch 20/20\n",
      "363/363 [==============================] - 1s 1ms/step - loss: 0.3922 - mse: 0.3922 - val_loss: 0.3829 - val_mse: 0.3829\n",
      "162/162 [==============================] - 0s 971us/step - loss: 0.3751 - mse: 0.3751\n"
     ]
    }
   ],
   "source": [
    "model = keras.models.Sequential([\n",
    "keras.layers.Dense(30, activation=\"relu\", input_shape=X_train_scaled.shape[1:]),\n",
    "keras.layers.Dense(1)\n",
    "])\n",
    "model.compile(loss=\"mean_squared_error\", optimizer=\"sgd\", metrics = ['mse'])\n",
    "history = model.fit(X_train_scaled, y_train, epochs=20,\n",
    "validation_data=(X_valid_scaled, y_valid))\n",
    "mse_test = model.evaluate(X_test_scaled, y_test)\n",
    "X_new = X_test_scaled[:3] # pretend these are new instances\n",
    "y_pred = model.predict(X_new)"
   ]
  },
  {
   "cell_type": "code",
   "execution_count": null,
   "metadata": {
    "colab": {
     "base_uri": "https://localhost:8080/",
     "height": 697
    },
    "colab_type": "code",
    "id": "nsSGELRxr8nG",
    "outputId": "9db579fe-4eb7-4230-8f31-b0baf8104f62"
   },
   "outputs": [
    {
     "data": {
      "text/plain": [
       "{'loss': [0.9728573560714722,\n",
       "  0.5811847448348999,\n",
       "  0.5812627673149109,\n",
       "  0.47888055443763733,\n",
       "  0.4521356225013733,\n",
       "  0.43549972772598267,\n",
       "  0.427274614572525,\n",
       "  0.42024630308151245,\n",
       "  0.4328235685825348,\n",
       "  0.4108392000198364,\n",
       "  0.42702004313468933,\n",
       "  0.4043004810810089,\n",
       "  0.4048212766647339,\n",
       "  0.40360620617866516,\n",
       "  0.41538330912590027,\n",
       "  0.39553847908973694,\n",
       "  0.39816561341285706,\n",
       "  0.39569252729415894,\n",
       "  0.39435726404190063,\n",
       "  0.38429778814315796],\n",
       " 'val_loss': [0.8523157835006714,\n",
       "  0.5137359499931335,\n",
       "  0.4795072078704834,\n",
       "  0.47030454874038696,\n",
       "  0.43574169278144836,\n",
       "  0.4213998019695282,\n",
       "  0.4266807734966278,\n",
       "  0.4079398512840271,\n",
       "  0.40278664231300354,\n",
       "  0.3977321982383728,\n",
       "  0.39389410614967346,\n",
       "  0.3909236490726471,\n",
       "  0.39008015394210815,\n",
       "  0.3877924978733063,\n",
       "  0.38413774967193604,\n",
       "  0.3809632360935211,\n",
       "  0.3768131732940674,\n",
       "  0.3797217905521393,\n",
       "  0.3828563094139099,\n",
       "  0.3754223883152008]}"
      ]
     },
     "execution_count": 20,
     "metadata": {
      "tags": []
     },
     "output_type": "execute_result"
    }
   ],
   "source": [
    "history.history"
   ]
  },
  {
   "cell_type": "code",
   "execution_count": null,
   "metadata": {
    "colab": {
     "base_uri": "https://localhost:8080/",
     "height": 51
    },
    "colab_type": "code",
    "id": "V2yYF9T_sAyO",
    "outputId": "5b3100e3-d437-41bc-d023-4cca6c0923b5"
   },
   "outputs": [
    {
     "name": "stdout",
     "output_type": "stream",
     "text": [
      "162/162 [==============================] - 0s 906us/step - loss: 0.3738\n"
     ]
    },
    {
     "data": {
      "text/plain": [
       "0.37379276752471924"
      ]
     },
     "execution_count": 21,
     "metadata": {
      "tags": []
     },
     "output_type": "execute_result"
    }
   ],
   "source": [
    "model.evaluate(X_test_scaled, y_test)"
   ]
  },
  {
   "cell_type": "code",
   "execution_count": null,
   "metadata": {
    "colab": {
     "base_uri": "https://localhost:8080/",
     "height": 68
    },
    "colab_type": "code",
    "id": "ROibrQDHuTvd",
    "outputId": "e6ab6163-24f9-49af-fabd-bab2009c5501"
   },
   "outputs": [
    {
     "data": {
      "text/plain": [
       "array([[0.70008284],\n",
       "       [1.0876666 ],\n",
       "       [1.4785794 ]], dtype=float32)"
      ]
     },
     "execution_count": 24,
     "metadata": {
      "tags": []
     },
     "output_type": "execute_result"
    }
   ],
   "source": [
    "y_pred"
   ]
  },
  {
   "cell_type": "code",
   "execution_count": null,
   "metadata": {
    "colab": {
     "base_uri": "https://localhost:8080/",
     "height": 34
    },
    "colab_type": "code",
    "id": "JvyvzNfEvOi8",
    "outputId": "20135b00-54e8-41a4-ee16-319c3e9b5133"
   },
   "outputs": [
    {
     "data": {
      "text/plain": [
       "array([1.078, 0.762, 1.051])"
      ]
     },
     "execution_count": 25,
     "metadata": {
      "tags": []
     },
     "output_type": "execute_result"
    }
   ],
   "source": [
    "y_test[:3]"
   ]
  },
  {
   "cell_type": "code",
   "execution_count": null,
   "metadata": {
    "colab": {
     "base_uri": "https://localhost:8080/",
     "height": 34
    },
    "colab_type": "code",
    "id": "uaOpeNYbvS3B",
    "outputId": "35037374-e09d-4ef0-e93d-e27bb9b8655f"
   },
   "outputs": [
    {
     "data": {
      "text/plain": [
       "array([1.078, 0.762, 1.051, ..., 0.788, 2.272, 0.525])"
      ]
     },
     "execution_count": 26,
     "metadata": {
      "tags": []
     },
     "output_type": "execute_result"
    }
   ],
   "source": [
    "y_test"
   ]
  },
  {
   "cell_type": "code",
   "execution_count": null,
   "metadata": {
    "colab": {},
    "colab_type": "code",
    "id": "ooFlOUdrvbLL"
   },
   "outputs": [],
   "source": []
  }
 ],
 "metadata": {
  "colab": {
   "name": "Sequential_Regression_CalHousing.ipynb",
   "provenance": []
  },
  "kernelspec": {
   "display_name": "Python 3",
   "language": "python",
   "name": "python3"
  },
  "language_info": {
   "codemirror_mode": {
    "name": "ipython",
    "version": 3
   },
   "file_extension": ".py",
   "mimetype": "text/x-python",
   "name": "python",
   "nbconvert_exporter": "python",
   "pygments_lexer": "ipython3",
   "version": "3.7.3"
  }
 },
 "nbformat": 4,
 "nbformat_minor": 1
}
