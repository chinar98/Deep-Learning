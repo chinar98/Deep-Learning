{
 "cells": [
  {
   "cell_type": "code",
   "execution_count": 1,
   "metadata": {},
   "outputs": [],
   "source": [
    "# Import the libraries\n",
    "from sklearn import datasets\n",
    "import matplotlib.pyplot as plt \n",
    "from sklearn.linear_model import Perceptron\n",
    "from sklearn.model_selection import train_test_split "
   ]
  },
  {
   "cell_type": "markdown",
   "metadata": {},
   "source": [
    "#### About the Digits Dataset"
   ]
  },
  {
   "cell_type": "markdown",
   "metadata": {},
   "source": [
    "Digits is a dataset of handwritten digits. <BR>\n",
    "Each feature is the intensity of one pixel of an 8 x 8 image.<BR>\n",
    "Therefore there are 64 intensity related features.<BR>\n",
    "The sklearn library provides an inbuilt function load_digits(), to load this dataset.<BR>\n"
   ]
  },
  {
   "cell_type": "code",
   "execution_count": 2,
   "metadata": {},
   "outputs": [],
   "source": [
    "# Load digits dataset\n",
    "digits = datasets.load_digits()\n",
    "\n",
    "# Create feature matrix\n",
    "X = digits.data\n",
    "\n",
    "# Create target vector\n",
    "y = digits.target"
   ]
  },
  {
   "cell_type": "markdown",
   "metadata": {},
   "source": [
    "View the number of samples in the dataset."
   ]
  },
  {
   "cell_type": "code",
   "execution_count": 3,
   "metadata": {},
   "outputs": [
    {
     "data": {
      "text/plain": [
       "(1797, 64)"
      ]
     },
     "execution_count": 3,
     "metadata": {},
     "output_type": "execute_result"
    }
   ],
   "source": [
    "X.data.shape"
   ]
  },
  {
   "cell_type": "markdown",
   "metadata": {},
   "source": [
    "So, we see that there is data for  1797 images and 64 features for each image.<br> \n",
    "View the feature values of a tuple<br> There are 64 values in each tuple, as explained above."
   ]
  },
  {
   "cell_type": "code",
   "execution_count": 4,
   "metadata": {},
   "outputs": [
    {
     "data": {
      "text/plain": [
       "array([ 0.,  0.,  5., 13.,  9.,  1.,  0.,  0.,  0.,  0., 13., 15., 10.,\n",
       "       15.,  5.,  0.,  0.,  3., 15.,  2.,  0., 11.,  8.,  0.,  0.,  4.,\n",
       "       12.,  0.,  0.,  8.,  8.,  0.,  0.,  5.,  8.,  0.,  0.,  9.,  8.,\n",
       "        0.,  0.,  4., 11.,  0.,  1., 12.,  7.,  0.,  0.,  2., 14.,  5.,\n",
       "       10., 12.,  0.,  0.,  0.,  0.,  6., 13., 10.,  0.,  0.,  0.])"
      ]
     },
     "execution_count": 4,
     "metadata": {},
     "output_type": "execute_result"
    }
   ],
   "source": [
    "# View the first observation's feature values\n",
    "X[0]"
   ]
  },
  {
   "cell_type": "code",
   "execution_count": 5,
   "metadata": {},
   "outputs": [
    {
     "name": "stdout",
     "output_type": "stream",
     "text": [
      "[[ 0.  0.  5. 13.  9.  1.  0.  0.]\n",
      " [ 0.  0. 13. 15. 10. 15.  5.  0.]\n",
      " [ 0.  3. 15.  2.  0. 11.  8.  0.]\n",
      " [ 0.  4. 12.  0.  0.  8.  8.  0.]\n",
      " [ 0.  5.  8.  0.  0.  9.  8.  0.]\n",
      " [ 0.  4. 11.  0.  1. 12.  7.  0.]\n",
      " [ 0.  2. 14.  5. 10. 12.  0.  0.]\n",
      " [ 0.  0.  6. 13. 10.  0.  0.  0.]]\n"
     ]
    }
   ],
   "source": [
    "print(digits.images[0])"
   ]
  },
  {
   "cell_type": "markdown",
   "metadata": {},
   "source": [
    "#### View the actual image from characteristics"
   ]
  },
  {
   "cell_type": "markdown",
   "metadata": {},
   "source": [
    "Let us now view the actual image by using a gray scale graph and the given 64 features<br>\n",
    "The matshow() method takes an input array and displays it in the given color scale<br>\n",
    "The digits in sklearn dataset are of much lower resolution than the original MNIST datset images which were 28×28 pixels.<br>"
   ]
  },
  {
   "cell_type": "code",
   "execution_count": 6,
   "metadata": {},
   "outputs": [],
   "source": [
    "# Visualize the observation's feature values as an image\n",
    "def showdigit(i):\n",
    "    #We first set the colomap to grayscale\n",
    "    plt.gray() \n",
    "    plt.figure(figsize = [1,1])\n",
    "\n",
    "    #Choose the observation/tuple to be displayed.\n",
    "    plt.matshow(digits.images[i]) \n",
    "\n",
    "    #Show the grayscale plot\n",
    "    plt.show()"
   ]
  },
  {
   "cell_type": "code",
   "execution_count": 7,
   "metadata": {},
   "outputs": [
    {
     "data": {
      "text/plain": [
       "<Figure size 432x288 with 0 Axes>"
      ]
     },
     "metadata": {},
     "output_type": "display_data"
    },
    {
     "data": {
      "text/plain": [
       "<Figure size 72x72 with 0 Axes>"
      ]
     },
     "metadata": {},
     "output_type": "display_data"
    },
    {
     "data": {
      "image/png": "[encoded data removed]",
      "text/plain": [
       "<Figure size 288x288 with 1 Axes>"
      ]
     },
     "metadata": {
      "needs_background": "light"
     },
     "output_type": "display_data"
    }
   ],
   "source": [
    "showdigit(325)"
   ]
  },
  {
   "cell_type": "markdown",
   "metadata": {},
   "source": [
    "### Fitting the Perceptron model"
   ]
  },
  {
   "cell_type": "code",
   "execution_count": 8,
   "metadata": {},
   "outputs": [],
   "source": [
    "def plot_multi(i):\n",
    "    '''Plots 16 digits, starting with digit i'''\n",
    "    nplots = 9\n",
    "    fig = plt.figure(figsize=(8,8))\n",
    "    for j in range(nplots):\n",
    "        plt.subplot(3,3,j+1)\n",
    "        plt.imshow(digits.images[i+j], cmap='binary')\n",
    "        plt.title(digits.target[i+j])\n",
    "        plt.axis('off')\n",
    "    plt.show()"
   ]
  },
  {
   "cell_type": "code",
   "execution_count": 9,
   "metadata": {},
   "outputs": [
    {
     "data": {
      "image/png": "[encoded data removed]",
      "text/plain": [
       "<Figure size 576x576 with 9 Axes>"
      ]
     },
     "metadata": {
      "needs_background": "light"
     },
     "output_type": "display_data"
    }
   ],
   "source": [
    "plot_multi(0)"
   ]
  },
  {
   "cell_type": "markdown",
   "metadata": {},
   "source": [
    "### Design our basic MLP"
   ]
  },
  {
   "cell_type": "markdown",
   "metadata": {},
   "source": [
    "We detine a Multi-Layer-Perceptron with just one hidden layer<br>\n",
    "We therefore have 3 layers : <br>\n",
    "Input Layer : Our images have 64 attributes or features. Hence our input layer will have 64 neurons<br>\n",
    "Output Layer: We expect a 0-9 digits classification. So we can have 10 neurons in the output, one for each output.<br>\n",
    "Hidden Layer: We can arbitrarily choose the number of neurons in this layer. TO achieve a dimension reduction here , we use say, 15 neurons. <br>\n",
    "<br>\n",
    "Also, we will build a dense of FULLY CONNECTED neural network"
   ]
  },
  {
   "cell_type": "markdown",
   "metadata": {},
   "source": [
    "#### Create Test and Train Data Sets"
   ]
  },
  {
   "cell_type": "code",
   "execution_count": 10,
   "metadata": {},
   "outputs": [],
   "source": [
    "X_train, X_test, y_train, y_test = train_test_split(X, y, test_size=0.2, random_state=0)"
   ]
  },
  {
   "cell_type": "code",
   "execution_count": 11,
   "metadata": {},
   "outputs": [
    {
     "name": "stdout",
     "output_type": "stream",
     "text": [
      "(1437, 64)\n"
     ]
    }
   ],
   "source": [
    "print(X_train.shape )"
   ]
  },
  {
   "cell_type": "code",
   "execution_count": 12,
   "metadata": {},
   "outputs": [
    {
     "name": "stdout",
     "output_type": "stream",
     "text": [
      "(360, 64)\n"
     ]
    }
   ],
   "source": [
    "print( X_test.shape)"
   ]
  },
  {
   "cell_type": "code",
   "execution_count": 13,
   "metadata": {},
   "outputs": [
    {
     "name": "stdout",
     "output_type": "stream",
     "text": [
      "(1437,)\n"
     ]
    }
   ],
   "source": [
    "print(y_train.shape)"
   ]
  },
  {
   "cell_type": "code",
   "execution_count": 14,
   "metadata": {},
   "outputs": [
    {
     "name": "stdout",
     "output_type": "stream",
     "text": [
      "(360,)\n"
     ]
    }
   ],
   "source": [
    "print( y_test.shape)"
   ]
  },
  {
   "cell_type": "code",
   "execution_count": 15,
   "metadata": {},
   "outputs": [],
   "source": [
    "from sklearn.neural_network import MLPClassifier\n",
    "\n",
    "mlp = MLPClassifier(hidden_layer_sizes=(15,), activation='logistic', alpha=1e-4,\n",
    "                    solver='sgd', tol=1e-4, random_state=1,\n",
    "                    learning_rate_init=.1, verbose=True,max_iter=500)"
   ]
  },
  {
   "cell_type": "code",
   "execution_count": 16,
   "metadata": {},
   "outputs": [
    {
     "name": "stdout",
     "output_type": "stream",
     "text": [
      "Iteration 1, loss = 2.15249593\n",
      "Iteration 2, loss = 1.68980144\n",
      "Iteration 3, loss = 1.25918855\n",
      "Iteration 4, loss = 0.90101278\n",
      "Iteration 5, loss = 0.64705257\n",
      "Iteration 6, loss = 0.50130506\n",
      "Iteration 7, loss = 0.39892879\n",
      "Iteration 8, loss = 0.34805643\n",
      "Iteration 9, loss = 0.28101277\n",
      "Iteration 10, loss = 0.25480912\n",
      "Iteration 11, loss = 0.21190128\n",
      "Iteration 12, loss = 0.20743182\n",
      "Iteration 13, loss = 0.18213260\n",
      "Iteration 14, loss = 0.15995221\n",
      "Iteration 15, loss = 0.15057888\n",
      "Iteration 16, loss = 0.13909420\n",
      "Iteration 17, loss = 0.12906573\n",
      "Iteration 18, loss = 0.11858621\n",
      "Iteration 19, loss = 0.11661341\n",
      "Iteration 20, loss = 0.10772064\n",
      "Iteration 21, loss = 0.09977674\n",
      "Iteration 22, loss = 0.09247116\n",
      "Iteration 23, loss = 0.09095041\n",
      "Iteration 24, loss = 0.08713646\n",
      "Iteration 25, loss = 0.08637697\n",
      "Iteration 26, loss = 0.08517056\n",
      "Iteration 27, loss = 0.07921742\n",
      "Iteration 28, loss = 0.08041866\n",
      "Iteration 29, loss = 0.07065617\n",
      "Iteration 30, loss = 0.06604370\n",
      "Iteration 31, loss = 0.07067165\n",
      "Iteration 32, loss = 0.06156586\n",
      "Iteration 33, loss = 0.05875288\n",
      "Iteration 34, loss = 0.06791662\n",
      "Iteration 35, loss = 0.05789268\n",
      "Iteration 36, loss = 0.05662516\n",
      "Iteration 37, loss = 0.05488521\n",
      "Iteration 38, loss = 0.05053356\n",
      "Iteration 39, loss = 0.04960683\n",
      "Iteration 40, loss = 0.04874293\n",
      "Iteration 41, loss = 0.04558730\n",
      "Iteration 42, loss = 0.04431762\n",
      "Iteration 43, loss = 0.04342598\n",
      "Iteration 44, loss = 0.04196795\n",
      "Iteration 45, loss = 0.04145282\n",
      "Iteration 46, loss = 0.04073692\n",
      "Iteration 47, loss = 0.03931750\n",
      "Iteration 48, loss = 0.03869286\n",
      "Iteration 49, loss = 0.03787976\n",
      "Iteration 50, loss = 0.03731483\n",
      "Iteration 51, loss = 0.03616545\n",
      "Iteration 52, loss = 0.03611156\n",
      "Iteration 53, loss = 0.03568974\n",
      "Iteration 54, loss = 0.03529782\n",
      "Iteration 55, loss = 0.03719276\n",
      "Iteration 56, loss = 0.03509162\n",
      "Iteration 57, loss = 0.03537342\n",
      "Iteration 58, loss = 0.03357963\n",
      "Iteration 59, loss = 0.03225060\n",
      "Iteration 60, loss = 0.03177173\n",
      "Iteration 61, loss = 0.03103484\n",
      "Iteration 62, loss = 0.03060679\n",
      "Iteration 63, loss = 0.03023619\n",
      "Iteration 64, loss = 0.03057684\n",
      "Iteration 65, loss = 0.02966342\n",
      "Iteration 66, loss = 0.02916946\n",
      "Iteration 67, loss = 0.02843174\n",
      "Iteration 68, loss = 0.02802842\n",
      "Iteration 69, loss = 0.02797680\n",
      "Iteration 70, loss = 0.02758983\n",
      "Iteration 71, loss = 0.02706073\n",
      "Iteration 72, loss = 0.02662779\n",
      "Iteration 73, loss = 0.02632751\n",
      "Iteration 74, loss = 0.02574541\n",
      "Iteration 75, loss = 0.02531232\n",
      "Iteration 76, loss = 0.02500393\n",
      "Iteration 77, loss = 0.02480064\n",
      "Iteration 78, loss = 0.02446753\n",
      "Iteration 79, loss = 0.02417807\n",
      "Iteration 80, loss = 0.02405199\n",
      "Iteration 81, loss = 0.02392718\n",
      "Iteration 82, loss = 0.02332192\n",
      "Iteration 83, loss = 0.02333891\n",
      "Iteration 84, loss = 0.02289076\n",
      "Iteration 85, loss = 0.02265835\n",
      "Iteration 86, loss = 0.02257244\n",
      "Iteration 87, loss = 0.02203581\n",
      "Iteration 88, loss = 0.02201884\n",
      "Iteration 89, loss = 0.02209204\n",
      "Iteration 90, loss = 0.02144690\n",
      "Iteration 91, loss = 0.02117337\n",
      "Iteration 92, loss = 0.02146636\n",
      "Iteration 93, loss = 0.02135661\n",
      "Iteration 94, loss = 0.02085489\n",
      "Iteration 95, loss = 0.02035840\n",
      "Iteration 96, loss = 0.02023296\n",
      "Iteration 97, loss = 0.01979452\n",
      "Iteration 98, loss = 0.02007492\n",
      "Iteration 99, loss = 0.01936244\n",
      "Iteration 100, loss = 0.01917613\n",
      "Iteration 101, loss = 0.01913305\n",
      "Iteration 102, loss = 0.01892351\n",
      "Iteration 103, loss = 0.01865424\n",
      "Iteration 104, loss = 0.01852047\n",
      "Iteration 105, loss = 0.01838389\n",
      "Iteration 106, loss = 0.01812138\n",
      "Iteration 107, loss = 0.01796269\n",
      "Iteration 108, loss = 0.01824704\n",
      "Iteration 109, loss = 0.01770006\n",
      "Iteration 110, loss = 0.01767522\n",
      "Iteration 111, loss = 0.01745005\n",
      "Iteration 112, loss = 0.01797964\n",
      "Iteration 113, loss = 0.01714248\n",
      "Iteration 114, loss = 0.01698374\n",
      "Iteration 115, loss = 0.01685807\n",
      "Iteration 116, loss = 0.01685010\n",
      "Iteration 117, loss = 0.01667320\n",
      "Iteration 118, loss = 0.01650358\n",
      "Iteration 119, loss = 0.01628399\n",
      "Iteration 120, loss = 0.01649908\n",
      "Iteration 121, loss = 0.01607283\n",
      "Iteration 122, loss = 0.01598860\n",
      "Iteration 123, loss = 0.01597411\n",
      "Iteration 124, loss = 0.01600337\n",
      "Iteration 125, loss = 0.01562547\n",
      "Iteration 126, loss = 0.01580867\n",
      "Iteration 127, loss = 0.01542731\n",
      "Iteration 128, loss = 0.01548089\n",
      "Iteration 129, loss = 0.01518627\n",
      "Iteration 130, loss = 0.01511508\n",
      "Iteration 131, loss = 0.01496997\n",
      "Iteration 132, loss = 0.01508187\n",
      "Iteration 133, loss = 0.01487369\n",
      "Iteration 134, loss = 0.01482211\n",
      "Iteration 135, loss = 0.01475462\n",
      "Iteration 136, loss = 0.01451385\n",
      "Iteration 137, loss = 0.01437197\n",
      "Iteration 138, loss = 0.01425964\n",
      "Iteration 139, loss = 0.01417154\n",
      "Iteration 140, loss = 0.01431718\n",
      "Iteration 141, loss = 0.01400329\n",
      "Iteration 142, loss = 0.01389695\n",
      "Iteration 143, loss = 0.01386998\n",
      "Iteration 144, loss = 0.01372744\n",
      "Iteration 145, loss = 0.01365244\n",
      "Iteration 146, loss = 0.01353586\n",
      "Iteration 147, loss = 0.01340570\n",
      "Iteration 148, loss = 0.01341142\n",
      "Iteration 149, loss = 0.01328351\n",
      "Iteration 150, loss = 0.01322560\n",
      "Iteration 151, loss = 0.01306638\n",
      "Iteration 152, loss = 0.01307064\n",
      "Iteration 153, loss = 0.01294852\n",
      "Iteration 154, loss = 0.01288648\n",
      "Iteration 155, loss = 0.01276943\n",
      "Iteration 156, loss = 0.01276215\n",
      "Iteration 157, loss = 0.01256907\n",
      "Iteration 158, loss = 0.01253199\n",
      "Iteration 159, loss = 0.01251434\n",
      "Iteration 160, loss = 0.01237856\n",
      "Iteration 161, loss = 0.01236198\n",
      "Iteration 162, loss = 0.01236813\n",
      "Iteration 163, loss = 0.01224836\n",
      "Iteration 164, loss = 0.01219305\n",
      "Iteration 165, loss = 0.01212745\n",
      "Iteration 166, loss = 0.01223618\n",
      "Iteration 167, loss = 0.01199394\n",
      "Iteration 168, loss = 0.01197374\n",
      "Iteration 169, loss = 0.01198539\n",
      "Iteration 170, loss = 0.01172737\n",
      "Iteration 171, loss = 0.01174822\n",
      "Iteration 172, loss = 0.01161990\n",
      "Iteration 173, loss = 0.01154969\n",
      "Iteration 174, loss = 0.01143540\n",
      "Iteration 175, loss = 0.01143983\n",
      "Iteration 176, loss = 0.01138802\n",
      "Iteration 177, loss = 0.01195954\n",
      "Iteration 178, loss = 0.01149361\n",
      "Iteration 179, loss = 0.01125953\n",
      "Iteration 180, loss = 0.01110830\n",
      "Iteration 181, loss = 0.01106490\n",
      "Iteration 182, loss = 0.01100716\n",
      "Iteration 183, loss = 0.01097433\n",
      "Iteration 184, loss = 0.01085247\n",
      "Iteration 185, loss = 0.01084798\n",
      "Iteration 186, loss = 0.01078047\n",
      "Iteration 187, loss = 0.01080400\n",
      "Iteration 188, loss = 0.01066969\n",
      "Iteration 189, loss = 0.01068222\n",
      "Iteration 190, loss = 0.01065586\n",
      "Iteration 191, loss = 0.01051995\n",
      "Iteration 192, loss = 0.01047615\n",
      "Iteration 193, loss = 0.01040750\n",
      "Iteration 194, loss = 0.01037651\n",
      "Iteration 195, loss = 0.01038089\n",
      "Iteration 196, loss = 0.01023229\n",
      "Iteration 197, loss = 0.01017848\n",
      "Iteration 198, loss = 0.01014074\n",
      "Iteration 199, loss = 0.01006419\n",
      "Iteration 200, loss = 0.00995747\n",
      "Iteration 201, loss = 0.00993180\n",
      "Iteration 202, loss = 0.00982349\n",
      "Iteration 203, loss = 0.00986442\n",
      "Iteration 204, loss = 0.00991117\n",
      "Iteration 205, loss = 0.00969246\n",
      "Iteration 206, loss = 0.01000313\n",
      "Iteration 207, loss = 0.00985500\n",
      "Iteration 208, loss = 0.00969460\n",
      "Iteration 209, loss = 0.00957350\n",
      "Iteration 210, loss = 0.00946481\n",
      "Iteration 211, loss = 0.00945113\n",
      "Iteration 212, loss = 0.00938479\n",
      "Iteration 213, loss = 0.00932359\n",
      "Iteration 214, loss = 0.00928163\n",
      "Iteration 215, loss = 0.00922813\n",
      "Iteration 216, loss = 0.00915789\n",
      "Iteration 217, loss = 0.00924313\n",
      "Iteration 218, loss = 0.00917175\n",
      "Iteration 219, loss = 0.00907267\n",
      "Iteration 220, loss = 0.00902846\n",
      "Iteration 221, loss = 0.00897860\n",
      "Training loss did not improve more than tol=0.000100 for 10 consecutive epochs. Stopping.\n"
     ]
    },
    {
     "data": {
      "text/plain": [
       "MLPClassifier(activation='logistic', alpha=0.0001, batch_size='auto',\n",
       "              beta_1=0.9, beta_2=0.999, early_stopping=False, epsilon=1e-08,\n",
       "              hidden_layer_sizes=(15,), learning_rate='constant',\n",
       "              learning_rate_init=0.1, max_iter=500, momentum=0.9,\n",
       "              n_iter_no_change=10, nesterovs_momentum=True, power_t=0.5,\n",
       "              random_state=1, shuffle=True, solver='sgd', tol=0.0001,\n",
       "              validation_fraction=0.1, verbose=True, warm_start=False)"
      ]
     },
     "execution_count": 16,
     "metadata": {},
     "output_type": "execute_result"
    }
   ],
   "source": [
    "mlp.fit(X_train,y_train)"
   ]
  },
  {
   "cell_type": "markdown",
   "metadata": {},
   "source": [
    "Now, we will test our model with the test set"
   ]
  },
  {
   "cell_type": "code",
   "execution_count": 17,
   "metadata": {},
   "outputs": [],
   "source": [
    "predictions = mlp.predict(X_test)"
   ]
  },
  {
   "cell_type": "code",
   "execution_count": 18,
   "metadata": {},
   "outputs": [
    {
     "data": {
      "text/plain": [
       "0.9611111111111111"
      ]
     },
     "execution_count": 18,
     "metadata": {},
     "output_type": "execute_result"
    }
   ],
   "source": [
    "from sklearn.metrics import accuracy_score\n",
    "accuracy_score(y_test, predictions)"
   ]
  },
  {
   "cell_type": "code",
   "execution_count": 19,
   "metadata": {},
   "outputs": [
    {
     "data": {
      "text/plain": [
       "3"
      ]
     },
     "execution_count": 19,
     "metadata": {},
     "output_type": "execute_result"
    }
   ],
   "source": [
    "mlp.n_layers_"
   ]
  },
  {
   "cell_type": "code",
   "execution_count": null,
   "metadata": {},
   "outputs": [],
   "source": []
  },
  {
   "cell_type": "code",
   "execution_count": null,
   "metadata": {},
   "outputs": [],
   "source": []
  }
 ],
 "metadata": {
  "kernelspec": {
   "display_name": "Python 3",
   "language": "python",
   "name": "python3"
  },
  "language_info": {
   "codemirror_mode": {
    "name": "ipython",
    "version": 3
   },
   "file_extension": ".py",
   "mimetype": "text/x-python",
   "name": "python",
   "nbconvert_exporter": "python",
   "pygments_lexer": "ipython3",
   "version": "3.7.3"
  }
 },
 "nbformat": 4,
 "nbformat_minor": 2
}
